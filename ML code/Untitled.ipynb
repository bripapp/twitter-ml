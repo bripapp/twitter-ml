{
 "cells": [
  {
   "cell_type": "code",
   "execution_count": null,
   "metadata": {},
   "outputs": [],
   "source": [
    "# import required libraries\n",
    "import tweepy\n",
    "import time\n",
    "import pandas as pd\n",
    "pd.set_option('display.max_colwidth', 1000)\n",
    "\n",
    "# api key\n",
    "api_key = \"a1FlXVMCqmmvEPForypkPsjv5\"\n",
    "# api secret key\n",
    "api_secret_key = \"pvNHoHckf9Mgn4GKRHrCzkQgZ5c3NDOM9Ho5Qbm1SQ97Ge0Tr3\"\n",
    "# access token\n",
    "access_token = \"193957391-81gXwxmOYK0Mk0GIVF36vw3vCojovgaKwwEdDmiX\"\n",
    "# access token secret\n",
    "access_token_secret = \"5PqkhEZIsATzOtutnbi1qyk34x0Zpwazuco1yGn1XH69j\"\n",
    "\n",
    "# authorize the API Key\n",
    "from tweepy.auth import OAuthHandler\n",
    "auth = OAuthHandler(_consumer_key, _consumer_secret)\n",
    "\n",
    "# authorization to user's access token and access token secret\n",
    "auth.set_access_token(_access_token, _access_token_secret)\n",
    "\n",
    "# call the api\n",
    "api = tweepy.API(auth, wait_on_rate_limit=True)"
   ]
  },
  {
   "cell_type": "code",
   "execution_count": null,
   "metadata": {},
   "outputs": [],
   "source": []
  }
 ],
 "metadata": {
  "kernelspec": {
   "display_name": "Python 3",
   "language": "python",
   "name": "python3"
  },
  "language_info": {
   "codemirror_mode": {
    "name": "ipython",
    "version": 3
   },
   "file_extension": ".py",
   "mimetype": "text/x-python",
   "name": "python",
   "nbconvert_exporter": "python",
   "pygments_lexer": "ipython3",
   "version": "3.7.9"
  }
 },
 "nbformat": 4,
 "nbformat_minor": 4
}
